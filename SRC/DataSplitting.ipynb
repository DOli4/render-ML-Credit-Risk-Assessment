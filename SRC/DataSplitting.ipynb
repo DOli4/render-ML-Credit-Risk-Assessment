{
 "cells": [
  {
   "cell_type": "code",
   "execution_count": null,
   "id": "a2f4271b",
   "metadata": {},
   "outputs": [
    {
     "name": "stdout",
     "output_type": "stream",
     "text": [
      "Data split completed and saved to '../Data/'\n",
      "Train Set: (82137, 92), Test Set: (20535, 92)\n"
     ]
    }
   ],
   "source": [
    "import os\n",
    "import pandas as pd\n",
    "from sklearn.model_selection import train_test_split\n",
    "\n",
    "#Set File Path\n",
    "filename = \"credit_risk_features.csv\"\n",
    "\n",
    "#Load Dataset\n",
    "try:\n",
    "    data = pd.read_csv(filename, engine=\"python\")\n",
    "except FileNotFoundError:\n",
    "    raise FileNotFoundError(f\"File '{filename}' not found. Please check the path.\")\n",
    "\n",
    "#Split Dataset\n",
    "train_data, test_data = train_test_split(\n",
    "    data,\n",
    "    test_size=0.2,\n",
    "    random_state=53\n",
    ")\n",
    "\n",
    "#Save to CSV\n",
    "output_path = \"../Data\"\n",
    "os.makedirs(output_path, exist_ok=True)\n",
    "train_data.to_csv(os.path.join(output_path, \"train_data.csv\"), index=False)\n",
    "test_data.to_csv(os.path.join(output_path, \"test_data.csv\"), index=False)\n",
    "\n",
    "print(\"Data split completed and saved to '../Data/'\")\n",
    "print(f\"Train Set: {train_data.shape}, Test Set: {test_data.shape}\")\n"
   ]
  }
 ],
 "metadata": {
  "kernelspec": {
   "display_name": "base",
   "language": "python",
   "name": "python3"
  },
  "language_info": {
   "codemirror_mode": {
    "name": "ipython",
    "version": 3
   },
   "file_extension": ".py",
   "mimetype": "text/x-python",
   "name": "python",
   "nbconvert_exporter": "python",
   "pygments_lexer": "ipython3",
   "version": "3.12.7"
  }
 },
 "nbformat": 4,
 "nbformat_minor": 5
}
